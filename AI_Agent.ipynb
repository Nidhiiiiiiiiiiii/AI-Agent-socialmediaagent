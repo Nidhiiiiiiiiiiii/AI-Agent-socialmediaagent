{
  "nbformat": 4,
  "nbformat_minor": 0,
  "metadata": {
    "colab": {
      "provenance": []
    },
    "kernelspec": {
      "name": "python3",
      "display_name": "Python 3"
    },
    "language_info": {
      "name": "python"
    }
  },
  "cells": [
    {
      "cell_type": "code",
      "execution_count": null,
      "metadata": {
        "id": "VuZI3OISdhJQ"
      },
      "outputs": [],
      "source": [
        "import asyncio\n",
        "import os\n",
        "from youtube_transcript_api import YouTubeTranscriptApi\n",
        "from agents import Agent, Runner, WebSearchTool, function_tool, ItemHelpers, trace\n",
        "from openai import OpenAI\n",
        "from dotenv import load_dotenv\n",
        "from dataclasses import dataclass\n",
        "from typing import List"
      ]
    },
    {
      "cell_type": "code",
      "source": [
        "load_dotenv()\n",
        "OPENAI_API_KEY = os.getenv(\"OPENAI_API_KEY\")"
      ],
      "metadata": {
        "id": "7Pk0emyKdv5i"
      },
      "execution_count": null,
      "outputs": []
    },
    {
      "cell_type": "code",
      "source": [
        "@function_tool\n",
        "def generate_content(video_transcript: str, social_media_platform: str):\n",
        "    print(f\"Generating social media content for {social_media_platform}...\")\n",
        "\n",
        "    client = OpenAI(api_key=OPENAI_API_KEY)#keep your api key\n",
        "\n",
        "    response = client.responses.create(\n",
        "        model=\"gpt-4o\",\n",
        "        input=[\n",
        "            {\"role\": \"user\", \"content\": f\"Here is a new video transcript:\\n{video_transcript}\\n\\n\"\n",
        "                                        f\"Generate a social media post on my {social_media_platform} based on my provided video transcript.\\n\"}\n",
        "        ],\n",
        "        max_output_tokens=1500\n",
        "    )\n",
        "\n",
        "    return response.output_text\n"
      ],
      "metadata": {
        "id": "ApJlxop9dztV"
      },
      "execution_count": null,
      "outputs": []
    },
    {
      "cell_type": "code",
      "source": [
        "@dataclass\n",
        "class Post:\n",
        "    platform: str\n",
        "    content: str\n",
        "\n",
        "content_writer_agent = Agent(\n",
        "    name=\"Content Writer Agent\",\n",
        "    instructions=\"\"\"You are a talented content writer who writes engaging, humorous, informative and\n",
        "                    highly readable social media posts.\n",
        "                    You will be given a video transcript and social media platforms.\n",
        "                    You will generate a social media post based on the video transcript\n",
        "                    and the social media platforms.\n",
        "                    You may search the web for up-to-date information on the topic and\n",
        "                    fill in some useful details if needed.\"\"\",\n",
        "    model=\"gpt-4o-mini\",\n",
        "    tools=[generate_content,\n",
        "           WebSearchTool(),\n",
        "           ],\n",
        "    output_type=List[Post],\n",
        ")"
      ],
      "metadata": {
        "id": "rBTizzgRd2HV"
      },
      "execution_count": null,
      "outputs": []
    },
    {
      "cell_type": "code",
      "source": [
        "def get_transcript(video_id: str, languages: list = None) -> str:\n",
        "    \"\"\"\n",
        "    Retrieves the transcript for a YouTube video.\n",
        "\n",
        "    Args:\n",
        "        video_id (str): The YouTube video ID.\n",
        "        languages (list, optional): List of language codes to try, in order of preference.\n",
        "                                   Defaults to [\"en\"] if None.\n",
        "\n",
        "    Returns:\n",
        "        str: The concatenated transcript text.\n",
        "\n",
        "    Raises:\n",
        "        Exception: If transcript retrieval fails, with details about the failure.\n",
        "    \"\"\"\n",
        "    if languages is None:\n",
        "        languages = [\"en\"]\n",
        "\n",
        "    try:\n",
        "        # Use the Youtube transcript API\n",
        "        ytt_api = YouTubeTranscriptApi()\n",
        "        fetched_transcript = ytt_api.fetch(video_id, languages=languages)\n",
        "\n",
        "        transcript_text = \" \".join(snippet.text for snippet in fetched_transcript)\n",
        "\n",
        "        return transcript_text\n",
        "\n",
        "    except Exception as e:\n",
        "        from youtube_transcript_api._errors import (\n",
        "            CouldNotRetrieveTranscript,\n",
        "            VideoUnavailable,\n",
        "            InvalidVideoId,\n",
        "            NoTranscriptFound,\n",
        "            TranscriptsDisabled\n",
        "        )\n",
        "\n",
        "        if isinstance(e, NoTranscriptFound):\n",
        "            error_msg = f\"No transcript found for video {video_id} in languages: {languages}\"\n",
        "        elif isinstance(e, VideoUnavailable):\n",
        "            error_msg = f\"Video {video_id} is unavailable\"\n",
        "        elif isinstance(e, InvalidVideoId):\n",
        "            error_msg = f\"Invalid video ID: {video_id}\"\n",
        "        elif isinstance(e, TranscriptsDisabled):\n",
        "            error_msg = f\"Transcripts are disabled for video {video_id}\"\n",
        "        elif isinstance(e, CouldNotRetrieveTranscript):\n",
        "            error_msg = f\"Could not retrieve transcript: {str(e)}\"\n",
        "        else:\n",
        "            error_msg = f\"An unexpected error occurred: {str(e)}\"\n",
        "\n",
        "        print(f\"Error: {error_msg}\")\n",
        "        raise Exception(error_msg) from e\n"
      ],
      "metadata": {
        "id": "0Ew9SRXpd5eU"
      },
      "execution_count": null,
      "outputs": []
    },
    {
      "cell_type": "code",
      "source": [
        "async def main():\n",
        "    video_id = \"OZ5OZZZ2cvk\"\n",
        "    transcript = get_transcript(video_id)\n",
        "\n",
        "    msg = f\"Generate a LinkedIn post and an Instagram caption based on this video transcript: {transcript}\"\n",
        "\n",
        "    input_items = [{\"content\": msg, \"role\": \"user\"}]\n",
        "    with trace(\"Writing content\"):\n",
        "        result = await Runner.run(content_writer_agent, input_items)\n",
        "        output = ItemHelpers.text_message_outputs(result.new_items)\n",
        "        print(\"Generated Post:\\n\", output)\n",
        "\n",
        "if __name__ == \"__main__\":\n",
        "    asyncio.run(main())"
      ],
      "metadata": {
        "id": "Y_5mwU5Qd8iL"
      },
      "execution_count": null,
      "outputs": []
    }
  ]
}